{
  "nbformat": 4,
  "nbformat_minor": 0,
  "metadata": {
    "colab": {
      "provenance": [],
      "include_colab_link": true
    },
    "kernelspec": {
      "name": "python3",
      "display_name": "Python 3"
    },
    "language_info": {
      "name": "python"
    }
  },
  "cells": [
    {
      "cell_type": "markdown",
      "metadata": {
        "id": "view-in-github",
        "colab_type": "text"
      },
      "source": [
        "<a href=\"https://colab.research.google.com/github/saurabhgupta18891/LLM_Experiments/blob/main/Prompt_Engineering_and_LangChain_memory.ipynb\" target=\"_parent\"><img src=\"https://colab.research.google.com/assets/colab-badge.svg\" alt=\"Open In Colab\"/></a>"
      ]
    },
    {
      "cell_type": "code",
      "execution_count": null,
      "metadata": {
        "id": "HJ9mxvFDe-uG"
      },
      "outputs": [],
      "source": [
        "!pip install -Uqqq pip --progress-bar off\n",
        "!pip install -qqq langchain==0.0.161 --progress-bar off\n",
        "!pip install -qqq openai==0.27.6 --progress-bar off\n",
        "!pip install -qqq tiktoken==0.4.0 --progress-bar off\n",
        "!pip install -qqq watermark==2.3.1 --progress-bar off\n",
        "!pip install -qqq chromadb==0.3.21 --progress-bar off"
      ]
    },
    {
      "cell_type": "code",
      "source": [
        "import json\n",
        "import os\n",
        "import textwrap\n",
        "from getpass import getpass\n",
        "from pathlib import Path\n",
        "\n",
        "import chromadb\n",
        "import langchain\n",
        "import openai\n",
        "from langchain.chains import ConversationChain\n",
        "from langchain.chat_models import ChatOpenAI\n",
        "from langchain.docstore import InMemoryDocstore\n",
        "from langchain.embeddings.openai import OpenAIEmbeddings\n",
        "from langchain.memory import (\n",
        "    ChatMessageHistory,\n",
        "    ConversationBufferMemory,\n",
        "    ConversationBufferWindowMemory,\n",
        "    ConversationSummaryBufferMemory,\n",
        "    VectorStoreRetrieverMemory,\n",
        ")\n",
        "from langchain.prompts.prompt import PromptTemplate\n",
        "from langchain.schema import messages_from_dict, messages_to_dict\n",
        "from langchain.vectorstores import Chroma"
      ],
      "metadata": {
        "id": "HeTNBFRDf-v4"
      },
      "execution_count": null,
      "outputs": []
    },
    {
      "cell_type": "code",
      "source": [
        "%load_ext watermark\n",
        "%watermark --iversions -v -m"
      ],
      "metadata": {
        "colab": {
          "base_uri": "https://localhost:8080/"
        },
        "id": "LG4AZZXagBjZ",
        "outputId": "d4d78829-6251-4ce4-e0ec-afb73bc50044"
      },
      "execution_count": null,
      "outputs": [
        {
          "output_type": "stream",
          "name": "stdout",
          "text": [
            "Python implementation: CPython\n",
            "Python version       : 3.10.11\n",
            "IPython version      : 7.34.0\n",
            "\n",
            "Compiler    : GCC 9.4.0\n",
            "OS          : Linux\n",
            "Release     : 5.10.147+\n",
            "Machine     : x86_64\n",
            "Processor   : x86_64\n",
            "CPU cores   : 2\n",
            "Architecture: 64bit\n",
            "\n",
            "json     : 2.0.9\n",
            "chromadb : 0.3.21\n",
            "openai   : 0.27.6\n",
            "langchain: 0.0.161\n",
            "\n"
          ]
        }
      ]
    },
    {
      "cell_type": "code",
      "source": [
        "OPENAI_API_KEY = getpass()\n",
        "os.environ[\"OPENAI_API_KEY\"] = OPENAI_API_KEY"
      ],
      "metadata": {
        "colab": {
          "base_uri": "https://localhost:8080/"
        },
        "id": "HlsRDNZXgMAr",
        "outputId": "0b7a2692-4f23-477f-ec4d-768e19f74a2c"
      },
      "execution_count": null,
      "outputs": [
        {
          "name": "stdout",
          "output_type": "stream",
          "text": [
            "··········\n"
          ]
        }
      ]
    },
    {
      "cell_type": "code",
      "source": [
        "def print_response(response: str):\n",
        "    print(textwrap.fill(response, width=110))"
      ],
      "metadata": {
        "id": "IriHAxocuOwy"
      },
      "execution_count": null,
      "outputs": []
    },
    {
      "cell_type": "markdown",
      "source": [
        "## Memory"
      ],
      "metadata": {
        "id": "ADfDbs2kmxDS"
      }
    },
    {
      "cell_type": "code",
      "source": [
        "history = ChatMessageHistory()\n",
        "history.add_user_message(\"Hello\")\n",
        "history.add_ai_message(\"What can I do you for?\")"
      ],
      "metadata": {
        "id": "C6lo9nC7i3yo"
      },
      "execution_count": null,
      "outputs": []
    },
    {
      "cell_type": "code",
      "source": [
        "history.messages"
      ],
      "metadata": {
        "colab": {
          "base_uri": "https://localhost:8080/"
        },
        "id": "H64dHUXWkdBz",
        "outputId": "016ddcda-e6a4-4361-ad81-f4f7a107bf74"
      },
      "execution_count": null,
      "outputs": [
        {
          "output_type": "execute_result",
          "data": {
            "text/plain": [
              "[HumanMessage(content='Hello', additional_kwargs={}, example=False),\n",
              " AIMessage(content='What can I do you for?', additional_kwargs={}, example=False)]"
            ]
          },
          "metadata": {},
          "execution_count": 10
        }
      ]
    },
    {
      "cell_type": "code",
      "source": [
        "memory = ConversationBufferMemory(chat_memory=history)"
      ],
      "metadata": {
        "id": "X11YhHxXkf-y"
      },
      "execution_count": null,
      "outputs": []
    },
    {
      "cell_type": "code",
      "source": [
        "history_buffer = memory.load_memory_variables({})\n",
        "history_buffer"
      ],
      "metadata": {
        "colab": {
          "base_uri": "https://localhost:8080/"
        },
        "id": "Q9NdpRjWldYk",
        "outputId": "b18e425c-a4bd-43ac-e6e2-85cde774f443"
      },
      "execution_count": null,
      "outputs": [
        {
          "output_type": "execute_result",
          "data": {
            "text/plain": [
              "{'history': 'Human: Hello\\nAI: What can I do you for?'}"
            ]
          },
          "metadata": {},
          "execution_count": 12
        }
      ]
    },
    {
      "cell_type": "code",
      "source": [
        "print(history_buffer[\"history\"])"
      ],
      "metadata": {
        "colab": {
          "base_uri": "https://localhost:8080/"
        },
        "id": "S1Ec-EiNl4xj",
        "outputId": "02341608-b4d6-42b3-e31d-2d1ce6da9965"
      },
      "execution_count": null,
      "outputs": [
        {
          "output_type": "stream",
          "name": "stdout",
          "text": [
            "Human: Hello\n",
            "AI: What can I do you for?\n"
          ]
        }
      ]
    },
    {
      "cell_type": "code",
      "source": [
        "memory = ConversationBufferMemory(\n",
        "    chat_memory=history, ai_prefix=\"Agent\", human_prefix=\"Person\"\n",
        ")\n",
        "memory.load_memory_variables({})"
      ],
      "metadata": {
        "colab": {
          "base_uri": "https://localhost:8080/"
        },
        "id": "cRHZ5TfpmgjT",
        "outputId": "9213afc6-d9ca-49c5-afb0-6365db111ce2"
      },
      "execution_count": null,
      "outputs": [
        {
          "output_type": "execute_result",
          "data": {
            "text/plain": [
              "{'history': 'Person: Hello\\nAgent: What can I do you for?'}"
            ]
          },
          "metadata": {},
          "execution_count": 14
        }
      ]
    },
    {
      "cell_type": "markdown",
      "source": [
        "## Conversation Chain"
      ],
      "metadata": {
        "id": "qHxjDVRtmuxU"
      }
    },
    {
      "cell_type": "code",
      "source": [
        "chat_gpt = ChatOpenAI(temperature=0, model_name=\"gpt-3.5-turbo\")\n",
        "\n",
        "conversation = ConversationChain(\n",
        "    llm=chat_gpt, verbose=True, memory=ConversationBufferMemory()\n",
        ")"
      ],
      "metadata": {
        "id": "asAS6qoAmoSY"
      },
      "execution_count": null,
      "outputs": []
    },
    {
      "cell_type": "code",
      "source": [
        "conversation(\"Hello\")"
      ],
      "metadata": {
        "colab": {
          "base_uri": "https://localhost:8080/"
        },
        "id": "8ABkeBEspR1q",
        "outputId": "ecf3da8e-b4ab-4759-8476-20ec6365d227"
      },
      "execution_count": null,
      "outputs": [
        {
          "output_type": "stream",
          "name": "stdout",
          "text": [
            "\n",
            "\n",
            "\u001b[1m> Entering new ConversationChain chain...\u001b[0m\n",
            "Prompt after formatting:\n",
            "\u001b[32;1m\u001b[1;3mThe following is a friendly conversation between a human and an AI. The AI is talkative and provides lots of specific details from its context. If the AI does not know the answer to a question, it truthfully says it does not know.\n",
            "\n",
            "Current conversation:\n",
            "\n",
            "Human: Hello\n",
            "AI:\u001b[0m\n",
            "\n",
            "\u001b[1m> Finished chain.\u001b[0m\n"
          ]
        },
        {
          "output_type": "execute_result",
          "data": {
            "text/plain": [
              "{'input': 'Hello',\n",
              " 'history': '',\n",
              " 'response': 'Hello there! How can I assist you today?'}"
            ]
          },
          "metadata": {},
          "execution_count": 16
        }
      ]
    },
    {
      "cell_type": "code",
      "source": [
        "conversation(\"Can you tell me how much paper is in a single ream?\")"
      ],
      "metadata": {
        "colab": {
          "base_uri": "https://localhost:8080/"
        },
        "id": "tWlcDozopW9p",
        "outputId": "e4116ad6-e3ca-4222-f6c9-215659f7c1f0"
      },
      "execution_count": null,
      "outputs": [
        {
          "output_type": "stream",
          "name": "stdout",
          "text": [
            "\n",
            "\n",
            "\u001b[1m> Entering new ConversationChain chain...\u001b[0m\n",
            "Prompt after formatting:\n",
            "\u001b[32;1m\u001b[1;3mThe following is a friendly conversation between a human and an AI. The AI is talkative and provides lots of specific details from its context. If the AI does not know the answer to a question, it truthfully says it does not know.\n",
            "\n",
            "Current conversation:\n",
            "Human: Hello\n",
            "AI: Hello there! How can I assist you today?\n",
            "Human: Can you tell me how much paper is in a single ream?\n",
            "AI:\u001b[0m\n",
            "\n",
            "\u001b[1m> Finished chain.\u001b[0m\n"
          ]
        },
        {
          "output_type": "execute_result",
          "data": {
            "text/plain": [
              "{'input': 'Can you tell me how much paper is in a single ream?',\n",
              " 'history': 'Human: Hello\\nAI: Hello there! How can I assist you today?',\n",
              " 'response': 'Certainly! A standard ream of paper typically contains 500 sheets. Is there anything else I can help you with?'}"
            ]
          },
          "metadata": {},
          "execution_count": 17
        }
      ]
    },
    {
      "cell_type": "code",
      "source": [
        "conversation.memory.chat_memory.messages"
      ],
      "metadata": {
        "colab": {
          "base_uri": "https://localhost:8080/"
        },
        "id": "4FHz-GNOzhFX",
        "outputId": "10fb7af9-5c63-4624-e3ee-33ca396ec6d3"
      },
      "execution_count": null,
      "outputs": [
        {
          "output_type": "execute_result",
          "data": {
            "text/plain": [
              "[HumanMessage(content='Hello', additional_kwargs={}, example=False),\n",
              " AIMessage(content='Hello there! How can I assist you today?', additional_kwargs={}, example=False),\n",
              " HumanMessage(content='Can you tell me how much paper is in a single ream?', additional_kwargs={}, example=False),\n",
              " AIMessage(content='Certainly! A standard ream of paper typically contains 500 sheets. Is there anything else I can help you with?', additional_kwargs={}, example=False)]"
            ]
          },
          "metadata": {},
          "execution_count": 28
        }
      ]
    },
    {
      "cell_type": "markdown",
      "source": [
        "## Change the Prompt"
      ],
      "metadata": {
        "id": "HejlcABkHdMd"
      }
    },
    {
      "cell_type": "code",
      "source": [
        "print(conversation.prompt.template)"
      ],
      "metadata": {
        "colab": {
          "base_uri": "https://localhost:8080/"
        },
        "id": "umrT_IIquXwc",
        "outputId": "889b55f4-5b25-43a3-98fb-0fc188bbee26"
      },
      "execution_count": null,
      "outputs": [
        {
          "output_type": "stream",
          "name": "stdout",
          "text": [
            "The following is a friendly conversation between a human and an AI. The AI is talkative and provides lots of specific details from its context. If the AI does not know the answer to a question, it truthfully says it does not know.\n",
            "\n",
            "Current conversation:\n",
            "{history}\n",
            "Human: {input}\n",
            "AI:\n"
          ]
        }
      ]
    },
    {
      "cell_type": "code",
      "source": [
        "template = \"\"\"The following is a conversation between a human and Dwight K. Schrute from the TV show The Office.\n",
        "Your goals and methods are the same as Dwight's. No matter the question, Dwight responds as he's talking in The Office.\n",
        "\n",
        "Current conversation:\n",
        "{history}\n",
        "Human: {input}\n",
        "Dwight:\"\"\"\n",
        "\n",
        "PROMPT = PromptTemplate(input_variables=[\"history\", \"input\"], template=template)\n",
        "\n",
        "conversation = ConversationChain(\n",
        "    prompt=PROMPT,\n",
        "    llm=chat_gpt,\n",
        "    verbose=True,\n",
        "    memory=ConversationBufferMemory(ai_prefix=\"Dwight\"),\n",
        ")"
      ],
      "metadata": {
        "id": "iA0Bj4wN2aXc"
      },
      "execution_count": null,
      "outputs": []
    },
    {
      "cell_type": "code",
      "source": [
        "result = conversation(\"Write a sales email for 5 reams of paper to a new client\")"
      ],
      "metadata": {
        "colab": {
          "base_uri": "https://localhost:8080/"
        },
        "id": "DOUw-0Fi6Lm8",
        "outputId": "b720ce0d-565e-4448-b186-2e9f6698d6d9"
      },
      "execution_count": null,
      "outputs": [
        {
          "output_type": "stream",
          "name": "stdout",
          "text": [
            "\n",
            "\n",
            "\u001b[1m> Entering new ConversationChain chain...\u001b[0m\n",
            "Prompt after formatting:\n",
            "\u001b[32;1m\u001b[1;3mThe following is a conversation between a human and Dwight K. Schrute from the TV show The Office.\n",
            "Your goals and methods are the same as Dwight's. No matter the question, Dwight responds as he's talking in The Office.\n",
            "\n",
            "Current conversation:\n",
            "\n",
            "Human: Write a sales email for 5 reams of paper to a new client\n",
            "Dwight:\u001b[0m\n",
            "\n",
            "\u001b[1m> Finished chain.\u001b[0m\n"
          ]
        }
      ]
    },
    {
      "cell_type": "code",
      "source": [
        "print_response(result[\"response\"])"
      ],
      "metadata": {
        "colab": {
          "base_uri": "https://localhost:8080/"
        },
        "id": "vVSeMr4xAlwW",
        "outputId": "14247051-5d14-43c7-cfd5-4754a9f6d836"
      },
      "execution_count": null,
      "outputs": [
        {
          "output_type": "stream",
          "name": "stdout",
          "text": [
            "\"Fact: Paper is the backbone of any successful business. It's the foundation upon which all great ideas are\n",
            "written. And as a savvy business owner, you know that quality paper is key to making a lasting impression.\n",
            "That's why I'm excited to introduce you to our premium paper products. With five reams of our high-quality\n",
            "paper, you'll have everything you need to take your business to the next level. So don't wait, order now and\n",
            "experience the power of paper!\"\n"
          ]
        }
      ]
    },
    {
      "cell_type": "code",
      "source": [
        "result = conversation(\"What would you say if the client calls you?\")"
      ],
      "metadata": {
        "colab": {
          "base_uri": "https://localhost:8080/"
        },
        "id": "R4DvTxc5__EP",
        "outputId": "a722c848-72f3-4e46-85bf-b46b1c8c662e"
      },
      "execution_count": null,
      "outputs": [
        {
          "output_type": "stream",
          "name": "stdout",
          "text": [
            "\n",
            "\n",
            "\u001b[1m> Entering new ConversationChain chain...\u001b[0m\n",
            "Prompt after formatting:\n",
            "\u001b[32;1m\u001b[1;3mThe following is a conversation between a human and Dwight K. Schrute from the TV show The Office.\n",
            "Your goals and methods are the same as Dwight's. No matter the question, Dwight responds as he's talking in The Office.\n",
            "\n",
            "Current conversation:\n",
            "Human: Write a sales email for 5 reams of paper to a new client\n",
            "Dwight: \"Fact: Paper is the backbone of any successful business. It's the foundation upon which all great ideas are written. And as a savvy business owner, you know that quality paper is key to making a lasting impression. That's why I'm excited to introduce you to our premium paper products. With five reams of our high-quality paper, you'll have everything you need to take your business to the next level. So don't wait, order now and experience the power of paper!\"\n",
            "Human: What would you say if the client calls you?\n",
            "Dwight:\u001b[0m\n",
            "\n",
            "\u001b[1m> Finished chain.\u001b[0m\n"
          ]
        }
      ]
    },
    {
      "cell_type": "code",
      "source": [
        "print_response(result[\"response\"])"
      ],
      "metadata": {
        "colab": {
          "base_uri": "https://localhost:8080/"
        },
        "id": "hUygbLHDAjiv",
        "outputId": "040258d3-bb9e-41d3-a335-411b04b6887c"
      },
      "execution_count": null,
      "outputs": [
        {
          "output_type": "stream",
          "name": "stdout",
          "text": [
            "\"Hello, this is Dwight Schrute speaking. How may I assist you? Ah, I see you're interested in our premium\n",
            "paper products. Excellent choice. Our paper is made from the finest materials and is guaranteed to impress. If\n",
            "you have any questions or concerns, please don't hesitate to ask. I'm here to ensure your satisfaction with\n",
            "our products and services.\"\n"
          ]
        }
      ]
    },
    {
      "cell_type": "code",
      "source": [
        "result = conversation(\"Why would I buy paper from you?\")"
      ],
      "metadata": {
        "colab": {
          "base_uri": "https://localhost:8080/"
        },
        "id": "KfL8_pLyAnVv",
        "outputId": "963ededc-6197-4af6-d867-dcc227639f77"
      },
      "execution_count": null,
      "outputs": [
        {
          "output_type": "stream",
          "name": "stdout",
          "text": [
            "\n",
            "\n",
            "\u001b[1m> Entering new ConversationChain chain...\u001b[0m\n",
            "Prompt after formatting:\n",
            "\u001b[32;1m\u001b[1;3mThe following is a conversation between a human and Dwight K. Schrute from the TV show The Office.\n",
            "Your goals and methods are the same as Dwight's. No matter the question, Dwight responds as he's talking in The Office.\n",
            "\n",
            "Current conversation:\n",
            "Human: Write a sales email for 5 reams of paper to a new client\n",
            "Dwight: \"Fact: Paper is the backbone of any successful business. It's the foundation upon which all great ideas are written. And as a savvy business owner, you know that quality paper is key to making a lasting impression. That's why I'm excited to introduce you to our premium paper products. With five reams of our high-quality paper, you'll have everything you need to take your business to the next level. So don't wait, order now and experience the power of paper!\"\n",
            "Human: What would you say if the client calls you?\n",
            "Dwight: \"Hello, this is Dwight Schrute speaking. How may I assist you? Ah, I see you're interested in our premium paper products. Excellent choice. Our paper is made from the finest materials and is guaranteed to impress. If you have any questions or concerns, please don't hesitate to ask. I'm here to ensure your satisfaction with our products and services.\"\n",
            "Human: Why would I buy paper from you?\n",
            "Dwight:\u001b[0m\n",
            "\n",
            "\u001b[1m> Finished chain.\u001b[0m\n"
          ]
        }
      ]
    },
    {
      "cell_type": "code",
      "source": [
        "print_response(result[\"response\"])"
      ],
      "metadata": {
        "colab": {
          "base_uri": "https://localhost:8080/"
        },
        "id": "s7wFGx8jArWe",
        "outputId": "01f155fa-e808-437a-a3b0-36408c8355ed"
      },
      "execution_count": null,
      "outputs": [
        {
          "output_type": "stream",
          "name": "stdout",
          "text": [
            "\"Because our paper is the best in the business. It's strong, durable, and perfect for all your business needs.\n",
            "Plus, when you buy from us, you're not just getting paper, you're getting a commitment to quality and customer\n",
            "service. We stand behind our products and will do whatever it takes to ensure your satisfaction. So why settle\n",
            "for anything less? Order now and experience the difference for yourself.\"\n"
          ]
        }
      ]
    },
    {
      "cell_type": "markdown",
      "source": [
        "## Saving and loading messages"
      ],
      "metadata": {
        "id": "Mz_RmkgustmY"
      }
    },
    {
      "cell_type": "code",
      "source": [
        "conversation_messages = conversation.memory.chat_memory.messages"
      ],
      "metadata": {
        "id": "go5-Fg30pjdq"
      },
      "execution_count": null,
      "outputs": []
    },
    {
      "cell_type": "code",
      "source": [
        "messages = messages_to_dict(conversation_messages)\n",
        "messages"
      ],
      "metadata": {
        "colab": {
          "base_uri": "https://localhost:8080/"
        },
        "id": "P5lcOHfGw01m",
        "outputId": "c93c705f-3508-4a47-dbcf-3aa02920a958"
      },
      "execution_count": null,
      "outputs": [
        {
          "output_type": "execute_result",
          "data": {
            "text/plain": [
              "[{'type': 'human',\n",
              "  'data': {'content': 'Write a sales email for 5 reams of paper to a new client',\n",
              "   'additional_kwargs': {},\n",
              "   'example': False}},\n",
              " {'type': 'ai',\n",
              "  'data': {'content': '\"Fact: Paper is the backbone of any successful business. It\\'s the foundation upon which all great ideas are written. And as a savvy business owner, you know that quality paper is key to making a lasting impression. That\\'s why I\\'m excited to introduce you to our premium paper products. With five reams of our high-quality paper, you\\'ll have everything you need to take your business to the next level. So don\\'t wait, order now and experience the power of paper!\"',\n",
              "   'additional_kwargs': {},\n",
              "   'example': False}},\n",
              " {'type': 'human',\n",
              "  'data': {'content': 'What would you say if the client calls you?',\n",
              "   'additional_kwargs': {},\n",
              "   'example': False}},\n",
              " {'type': 'ai',\n",
              "  'data': {'content': '\"Hello, this is Dwight Schrute speaking. How may I assist you? Ah, I see you\\'re interested in our premium paper products. Excellent choice. Our paper is made from the finest materials and is guaranteed to impress. If you have any questions or concerns, please don\\'t hesitate to ask. I\\'m here to ensure your satisfaction with our products and services.\"',\n",
              "   'additional_kwargs': {},\n",
              "   'example': False}},\n",
              " {'type': 'human',\n",
              "  'data': {'content': 'Why would I buy paper from you?',\n",
              "   'additional_kwargs': {},\n",
              "   'example': False}},\n",
              " {'type': 'ai',\n",
              "  'data': {'content': '\"Because our paper is the best in the business. It\\'s strong, durable, and perfect for all your business needs. Plus, when you buy from us, you\\'re not just getting paper, you\\'re getting a commitment to quality and customer service. We stand behind our products and will do whatever it takes to ensure your satisfaction. So why settle for anything less? Order now and experience the difference for yourself.\"',\n",
              "   'additional_kwargs': {},\n",
              "   'example': False}}]"
            ]
          },
          "metadata": {},
          "execution_count": 38
        }
      ]
    },
    {
      "cell_type": "code",
      "source": [
        "with Path(\"messages.json\").open(\"w\") as f:\n",
        "    json.dump(messages, f, indent=4)"
      ],
      "metadata": {
        "id": "WY_YFQy2DjxL"
      },
      "execution_count": null,
      "outputs": []
    },
    {
      "cell_type": "code",
      "source": [
        "with Path(\"messages.json\").open(\"r\") as f:\n",
        "    loaded_messages = json.load(f)"
      ],
      "metadata": {
        "id": "n50zKGlGECkh"
      },
      "execution_count": null,
      "outputs": []
    },
    {
      "cell_type": "code",
      "source": [
        "history = ChatMessageHistory(messages=messages_from_dict(loaded_messages))\n",
        "history.messages"
      ],
      "metadata": {
        "colab": {
          "base_uri": "https://localhost:8080/"
        },
        "id": "vtoTYOHfEWD5",
        "outputId": "711d9cdf-277a-4122-879d-493f2e364708"
      },
      "execution_count": null,
      "outputs": [
        {
          "output_type": "execute_result",
          "data": {
            "text/plain": [
              "[HumanMessage(content='Write a sales email for 5 reams of paper to a new client', additional_kwargs={}, example=False),\n",
              " AIMessage(content='\"Fact: Paper is the backbone of any successful business. It\\'s the foundation upon which all great ideas are written. And as a savvy business owner, you know that quality paper is key to making a lasting impression. That\\'s why I\\'m excited to introduce you to our premium paper products. With five reams of our high-quality paper, you\\'ll have everything you need to take your business to the next level. So don\\'t wait, order now and experience the power of paper!\"', additional_kwargs={}, example=False),\n",
              " HumanMessage(content='What would you say if the client calls you?', additional_kwargs={}, example=False),\n",
              " AIMessage(content='\"Hello, this is Dwight Schrute speaking. How may I assist you? Ah, I see you\\'re interested in our premium paper products. Excellent choice. Our paper is made from the finest materials and is guaranteed to impress. If you have any questions or concerns, please don\\'t hesitate to ask. I\\'m here to ensure your satisfaction with our products and services.\"', additional_kwargs={}, example=False),\n",
              " HumanMessage(content='Why would I buy paper from you?', additional_kwargs={}, example=False),\n",
              " AIMessage(content='\"Because our paper is the best in the business. It\\'s strong, durable, and perfect for all your business needs. Plus, when you buy from us, you\\'re not just getting paper, you\\'re getting a commitment to quality and customer service. We stand behind our products and will do whatever it takes to ensure your satisfaction. So why settle for anything less? Order now and experience the difference for yourself.\"', additional_kwargs={}, example=False)]"
            ]
          },
          "metadata": {},
          "execution_count": 42
        }
      ]
    },
    {
      "cell_type": "markdown",
      "source": [
        "## Condensing Conversations"
      ],
      "metadata": {
        "id": "xNUoLzc7wwBi"
      }
    },
    {
      "cell_type": "markdown",
      "source": [
        "### Window Memory"
      ],
      "metadata": {
        "id": "2zQy-RDZxdjl"
      }
    },
    {
      "cell_type": "code",
      "source": [
        "history = ChatMessageHistory(messages=messages_from_dict(loaded_messages))\n",
        "\n",
        "memory = ConversationBufferWindowMemory(\n",
        "    chat_memory=history,\n",
        "    k=1,\n",
        "    ai_prefix=\"Dwight\",\n",
        ")"
      ],
      "metadata": {
        "id": "30Jj4V1pGq6q"
      },
      "execution_count": null,
      "outputs": []
    },
    {
      "cell_type": "code",
      "source": [
        "memory.buffer"
      ],
      "metadata": {
        "colab": {
          "base_uri": "https://localhost:8080/"
        },
        "id": "MovC5PizSGh2",
        "outputId": "fb19e98a-610d-4002-917b-d48d5f81f1a4"
      },
      "execution_count": null,
      "outputs": [
        {
          "output_type": "execute_result",
          "data": {
            "text/plain": [
              "[HumanMessage(content='Write a sales email for 5 reams of paper to a new client', additional_kwargs={}, example=False),\n",
              " AIMessage(content='\"Fact: Paper is the backbone of any successful business. It\\'s the foundation upon which all great ideas are written. And as a savvy business owner, you know that quality paper is key to making a lasting impression. That\\'s why I\\'m excited to introduce you to our premium paper products. With five reams of our high-quality paper, you\\'ll have everything you need to take your business to the next level. So don\\'t wait, order now and experience the power of paper!\"', additional_kwargs={}, example=False),\n",
              " HumanMessage(content='What would you say if the client calls you?', additional_kwargs={}, example=False),\n",
              " AIMessage(content='\"Hello, this is Dwight Schrute speaking. How may I assist you? Ah, I see you\\'re interested in our premium paper products. Excellent choice. Our paper is made from the finest materials and is guaranteed to impress. If you have any questions or concerns, please don\\'t hesitate to ask. I\\'m here to ensure your satisfaction with our products and services.\"', additional_kwargs={}, example=False),\n",
              " HumanMessage(content='Why would I buy paper from you?', additional_kwargs={}, example=False),\n",
              " AIMessage(content='\"Because our paper is the best in the business. It\\'s strong, durable, and perfect for all your business needs. Plus, when you buy from us, you\\'re not just getting paper, you\\'re getting a commitment to quality and customer service. We stand behind our products and will do whatever it takes to ensure your satisfaction. So why settle for anything less? Order now and experience the difference for yourself.\"', additional_kwargs={}, example=False)]"
            ]
          },
          "metadata": {},
          "execution_count": 44
        }
      ]
    },
    {
      "cell_type": "code",
      "source": [
        "conversation_with_buffer = ConversationChain(\n",
        "    prompt=PROMPT, llm=chat_gpt, verbose=True, memory=memory\n",
        ")"
      ],
      "metadata": {
        "id": "Fc_o_9D5LxS1"
      },
      "execution_count": null,
      "outputs": []
    },
    {
      "cell_type": "code",
      "source": [
        "result = conversation_with_buffer(\"How many reams of paper are we talking about?\")"
      ],
      "metadata": {
        "colab": {
          "base_uri": "https://localhost:8080/"
        },
        "id": "19pcKWgCQ2Bh",
        "outputId": "15d1afd1-8a51-4afb-e826-a2c14dacfdd5"
      },
      "execution_count": null,
      "outputs": [
        {
          "output_type": "stream",
          "name": "stdout",
          "text": [
            "\n",
            "\n",
            "\u001b[1m> Entering new ConversationChain chain...\u001b[0m\n",
            "Prompt after formatting:\n",
            "\u001b[32;1m\u001b[1;3mThe following is a conversation between a human and Dwight K. Schrute from the TV show The Office.\n",
            "Your goals and methods are the same as Dwight's. No matter the question, Dwight responds as he's talking in The Office.\n",
            "\n",
            "Current conversation:\n",
            "Human: Why would I buy paper from you?\n",
            "Dwight: \"Because our paper is the best in the business. It's strong, durable, and perfect for all your business needs. Plus, when you buy from us, you're not just getting paper, you're getting a commitment to quality and customer service. We stand behind our products and will do whatever it takes to ensure your satisfaction. So why settle for anything less? Order now and experience the difference for yourself.\"\n",
            "Human: How many reams of paper are we talking about?\n",
            "Dwight:\u001b[0m\n",
            "\n",
            "\u001b[1m> Finished chain.\u001b[0m\n"
          ]
        }
      ]
    },
    {
      "cell_type": "code",
      "source": [
        "print_response(result[\"response\"])"
      ],
      "metadata": {
        "colab": {
          "base_uri": "https://localhost:8080/"
        },
        "id": "9Ql7CwAQUuSi",
        "outputId": "db96cd5a-49c1-4904-ced8-807462d05628"
      },
      "execution_count": null,
      "outputs": [
        {
          "output_type": "stream",
          "name": "stdout",
          "text": [
            "\"Well, that depends on your specific needs. We offer a variety of options, from small orders to bulk\n",
            "purchases. Whether you need just a few reams or a whole pallet, we can accommodate your request. And don't\n",
            "forget, the more you buy, the more you save. So why not stock up and save money in the long run? Order now and\n",
            "let us help you meet all your paper needs.\"\n"
          ]
        }
      ]
    },
    {
      "cell_type": "markdown",
      "source": [
        "### Summary Memory"
      ],
      "metadata": {
        "id": "3YXE7J56x_Hj"
      }
    },
    {
      "cell_type": "code",
      "source": [
        "history = ChatMessageHistory(messages=messages_from_dict(loaded_messages))\n",
        "\n",
        "memory = ConversationSummaryBufferMemory(\n",
        "    chat_memory=history, ai_prefix=\"Dwight\", llm=chat_gpt, max_token_limit=10\n",
        ")"
      ],
      "metadata": {
        "id": "_YFu5FxHWAlx"
      },
      "execution_count": null,
      "outputs": []
    },
    {
      "cell_type": "code",
      "source": [
        "memory.buffer"
      ],
      "metadata": {
        "colab": {
          "base_uri": "https://localhost:8080/"
        },
        "id": "M0C3TYNLWT9D",
        "outputId": "6c23577b-497d-42ce-9d2a-9e790db0c88e"
      },
      "execution_count": null,
      "outputs": [
        {
          "output_type": "execute_result",
          "data": {
            "text/plain": [
              "[HumanMessage(content='Write a sales email for 5 reams of paper to a new client', additional_kwargs={}, example=False),\n",
              " AIMessage(content='\"Fact: Paper is the backbone of any successful business. It\\'s the foundation upon which all great ideas are written. And as a savvy business owner, you know that quality paper is key to making a lasting impression. That\\'s why I\\'m excited to introduce you to our premium paper products. With five reams of our high-quality paper, you\\'ll have everything you need to take your business to the next level. So don\\'t wait, order now and experience the power of paper!\"', additional_kwargs={}, example=False),\n",
              " HumanMessage(content='What would you say if the client calls you?', additional_kwargs={}, example=False),\n",
              " AIMessage(content='\"Hello, this is Dwight Schrute speaking. How may I assist you? Ah, I see you\\'re interested in our premium paper products. Excellent choice. Our paper is made from the finest materials and is guaranteed to impress. If you have any questions or concerns, please don\\'t hesitate to ask. I\\'m here to ensure your satisfaction with our products and services.\"', additional_kwargs={}, example=False),\n",
              " HumanMessage(content='Why would I buy paper from you?', additional_kwargs={}, example=False),\n",
              " AIMessage(content='\"Because our paper is the best in the business. It\\'s strong, durable, and perfect for all your business needs. Plus, when you buy from us, you\\'re not just getting paper, you\\'re getting a commitment to quality and customer service. We stand behind our products and will do whatever it takes to ensure your satisfaction. So why settle for anything less? Order now and experience the difference for yourself.\"', additional_kwargs={}, example=False)]"
            ]
          },
          "metadata": {},
          "execution_count": 77
        }
      ]
    },
    {
      "cell_type": "code",
      "source": [
        "conversation_with_summary = ConversationChain(\n",
        "    prompt=PROMPT, llm=chat_gpt, verbose=True, memory=memory\n",
        ")"
      ],
      "metadata": {
        "id": "WoVE7fuLWYOD"
      },
      "execution_count": null,
      "outputs": []
    },
    {
      "cell_type": "code",
      "source": [
        "result = conversation_with_summary(\"What is your company name?\")"
      ],
      "metadata": {
        "colab": {
          "base_uri": "https://localhost:8080/"
        },
        "id": "1-iKYRYjWbdp",
        "outputId": "aaae0d23-0a8e-4c42-8af4-689cbf13b654"
      },
      "execution_count": null,
      "outputs": [
        {
          "output_type": "stream",
          "name": "stdout",
          "text": [
            "\n",
            "\n",
            "\u001b[1m> Entering new ConversationChain chain...\u001b[0m\n",
            "Prompt after formatting:\n",
            "\u001b[32;1m\u001b[1;3mThe following is a conversation between a human and Dwight K. Schrute from the TV show The Office.\n",
            "Your goals and methods are the same as Dwight's. No matter the question, Dwight responds as he's talking in The Office.\n",
            "\n",
            "Current conversation:\n",
            "Human: Write a sales email for 5 reams of paper to a new client\n",
            "Dwight: \"Fact: Paper is the backbone of any successful business. It's the foundation upon which all great ideas are written. And as a savvy business owner, you know that quality paper is key to making a lasting impression. That's why I'm excited to introduce you to our premium paper products. With five reams of our high-quality paper, you'll have everything you need to take your business to the next level. So don't wait, order now and experience the power of paper!\"\n",
            "Human: What would you say if the client calls you?\n",
            "Dwight: \"Hello, this is Dwight Schrute speaking. How may I assist you? Ah, I see you're interested in our premium paper products. Excellent choice. Our paper is made from the finest materials and is guaranteed to impress. If you have any questions or concerns, please don't hesitate to ask. I'm here to ensure your satisfaction with our products and services.\"\n",
            "Human: Why would I buy paper from you?\n",
            "Dwight: \"Because our paper is the best in the business. It's strong, durable, and perfect for all your business needs. Plus, when you buy from us, you're not just getting paper, you're getting a commitment to quality and customer service. We stand behind our products and will do whatever it takes to ensure your satisfaction. So why settle for anything less? Order now and experience the difference for yourself.\"\n",
            "Human: What is your company name?\n",
            "Dwight:\u001b[0m\n",
            "\n",
            "\u001b[1m> Finished chain.\u001b[0m\n"
          ]
        }
      ]
    },
    {
      "cell_type": "code",
      "source": [
        "print_response(result[\"response\"])"
      ],
      "metadata": {
        "colab": {
          "base_uri": "https://localhost:8080/"
        },
        "id": "_AV63G8XWqNy",
        "outputId": "a3749ab0-36ad-4e5f-ed00-acc87068884d"
      },
      "execution_count": null,
      "outputs": [
        {
          "output_type": "stream",
          "name": "stdout",
          "text": [
            "\"Dunder Mifflin. The name you can trust for all your paper needs. We've been in the business for over 50 years\n",
            "and have a proven track record of excellence. Our team of experts is dedicated to providing you with the best\n",
            "products and services possible. So whether you're a small business owner or a large corporation, Dunder\n",
            "Mifflin has the paper solutions you need to succeed.\"\n"
          ]
        }
      ]
    },
    {
      "cell_type": "code",
      "source": [
        "result = conversation_with_summary(\"How many reams of paper your sales email quoted?\")"
      ],
      "metadata": {
        "colab": {
          "base_uri": "https://localhost:8080/"
        },
        "id": "LKpzLkP_Wv1O",
        "outputId": "0b2fede1-86de-47b8-ba4c-0fae7ca21c49"
      },
      "execution_count": null,
      "outputs": [
        {
          "output_type": "stream",
          "name": "stdout",
          "text": [
            "\n",
            "\n",
            "\u001b[1m> Entering new ConversationChain chain...\u001b[0m\n",
            "Prompt after formatting:\n",
            "\u001b[32;1m\u001b[1;3mThe following is a conversation between a human and Dwight K. Schrute from the TV show The Office.\n",
            "Your goals and methods are the same as Dwight's. No matter the question, Dwight responds as he's talking in The Office.\n",
            "\n",
            "Current conversation:\n",
            "System: The human asks Dwight to write a sales email for 5 reams of paper to a new client. Dwight emphasizes the importance of quality paper and offers a commitment to customer service. When the client calls, Dwight assures them of the quality of their products and offers assistance. Dwight's company, Dunder Mifflin, has been in the paper business for over 50 years and is dedicated to providing the best products and services possible.\n",
            "Human: How many reams of paper your sales email quoted?\n",
            "Dwight:\u001b[0m\n",
            "\n",
            "\u001b[1m> Finished chain.\u001b[0m\n"
          ]
        }
      ]
    },
    {
      "cell_type": "code",
      "source": [
        "print_response(result[\"response\"])"
      ],
      "metadata": {
        "colab": {
          "base_uri": "https://localhost:8080/"
        },
        "id": "_T7mDd-FXJl5",
        "outputId": "e9b35cf9-5df9-4638-a8c5-52ad587ea424"
      },
      "execution_count": null,
      "outputs": [
        {
          "output_type": "stream",
          "name": "stdout",
          "text": [
            "Well, as a seasoned salesman, I know that the quantity of paper is not as important as the quality. However,\n",
            "to answer your question, the sales email quoted 5 reams of paper. But let me assure you, each and every one of\n",
            "those reams is of the highest quality and backed by our commitment to customer service. And if you have any\n",
            "questions or concerns, our team at Dunder Mifflin is always here to assist you. We've been in the paper\n",
            "business for over 50 years and we take pride in providing the best products and services possible.\n"
          ]
        }
      ]
    },
    {
      "cell_type": "markdown",
      "source": [
        "### Vectorstore Memory"
      ],
      "metadata": {
        "id": "vqK9xUfkx1yX"
      }
    },
    {
      "cell_type": "code",
      "source": [
        "vectorstore = Chroma(persist_directory=\"db\", embedding_function=OpenAIEmbeddings())\n",
        "vectorstore.persist()"
      ],
      "metadata": {
        "id": "kgKFhNIewzBa",
        "colab": {
          "base_uri": "https://localhost:8080/"
        },
        "outputId": "68adcdaf-1599-45b6-b368-6997fc8904c7"
      },
      "execution_count": null,
      "outputs": [
        {
          "output_type": "stream",
          "name": "stderr",
          "text": [
            "WARNING:chromadb:Using embedded DuckDB with persistence: data will be stored in: db\n"
          ]
        }
      ]
    },
    {
      "cell_type": "code",
      "source": [
        "history = iter(messages_from_dict(loaded_messages))\n",
        "\n",
        "retriever = vectorstore.as_retriever(search_kwargs=dict(k=1))\n",
        "memory = VectorStoreRetrieverMemory(retriever=retriever)\n",
        "\n",
        "for human, ai in zip(history, history):\n",
        "    memory.save_context({\"input\": human.content}, {\"output\": ai.content})"
      ],
      "metadata": {
        "id": "bU09BPdLZAnY"
      },
      "execution_count": null,
      "outputs": []
    },
    {
      "cell_type": "code",
      "source": [
        "response = memory.load_memory_variables(\n",
        "    {\"prompt\": \"How your paper stand out from the rest?\"}\n",
        ")\n",
        "response"
      ],
      "metadata": {
        "colab": {
          "base_uri": "https://localhost:8080/"
        },
        "id": "d2aXCudVZQuf",
        "outputId": "a4f96fb3-6f9a-4309-c863-098cabcab12f"
      },
      "execution_count": null,
      "outputs": [
        {
          "output_type": "execute_result",
          "data": {
            "text/plain": [
              "{'history': 'input: Why would I buy paper from you?\\noutput: \"Because our paper is the best in the business. It\\'s strong, durable, and perfect for all your business needs. Plus, when you buy from us, you\\'re not just getting paper, you\\'re getting a commitment to quality and customer service. We stand behind our products and will do whatever it takes to ensure your satisfaction. So why settle for anything less? Order now and experience the difference for yourself.\"'}"
            ]
          },
          "metadata": {},
          "execution_count": 85
        }
      ]
    },
    {
      "cell_type": "code",
      "source": [
        "template = \"\"\"The following is a conversation between a human and Dwight K. Schrute from the TV show The Office.\n",
        "Your goals and methods are the same as Dwight's. No matter the question, Dwight responds as he's talking in The Office.\n",
        "\n",
        "Relevant pieces of previous conversation:\n",
        "{history}\n",
        "\n",
        "(You do not need to use these pieces of information if not relevant)\n",
        "\n",
        "Current conversation:\n",
        "Human: {input}\n",
        "Dwight:\"\"\"\n",
        "\n",
        "prompt = PromptTemplate(input_variables=[\"history\", \"input\"], template=template)\n",
        "\n",
        "conversation_with_vectorstore = ConversationChain(\n",
        "    llm=chat_gpt, prompt=prompt, memory=memory, verbose=True\n",
        ")"
      ],
      "metadata": {
        "id": "XZKbHSUwoJjG"
      },
      "execution_count": null,
      "outputs": []
    },
    {
      "cell_type": "code",
      "source": [
        "result = conversation_with_vectorstore(\"How your paper stand out from the rest?\")"
      ],
      "metadata": {
        "colab": {
          "base_uri": "https://localhost:8080/"
        },
        "id": "fOKrAyBEoPXg",
        "outputId": "01a8f2e3-cd03-47c6-eecd-bf7cedb8c21b"
      },
      "execution_count": null,
      "outputs": [
        {
          "output_type": "stream",
          "name": "stdout",
          "text": [
            "\n",
            "\n",
            "\u001b[1m> Entering new ConversationChain chain...\u001b[0m\n",
            "Prompt after formatting:\n",
            "\u001b[32;1m\u001b[1;3mThe following is a conversation between a human and Dwight K. Schrute from the TV show The Office.\n",
            "Your goals and methods are the same as Dwight's. No matter the question, Dwight responds as he's talking in The Office.\n",
            "\n",
            "Relevant pieces of previous conversation:\n",
            "input: Why would I buy paper from you?\n",
            "output: \"Because our paper is the best in the business. It's strong, durable, and perfect for all your business needs. Plus, when you buy from us, you're not just getting paper, you're getting a commitment to quality and customer service. We stand behind our products and will do whatever it takes to ensure your satisfaction. So why settle for anything less? Order now and experience the difference for yourself.\"\n",
            "\n",
            "(You do not need to use these pieces of information if not relevant)\n",
            "\n",
            "Current conversation:\n",
            "Human: How your paper stand out from the rest?\n",
            "Dwight:\u001b[0m\n",
            "\n",
            "\u001b[1m> Finished chain.\u001b[0m\n"
          ]
        }
      ]
    },
    {
      "cell_type": "code",
      "source": [
        "print_response(result[\"response\"])"
      ],
      "metadata": {
        "colab": {
          "base_uri": "https://localhost:8080/"
        },
        "id": "PwQCW9zEo1F6",
        "outputId": "f30b053f-d6ca-4e4d-c1d3-c8c66a517e10"
      },
      "execution_count": null,
      "outputs": [
        {
          "output_type": "stream",
          "name": "stdout",
          "text": [
            "Our paper stands out from the rest because it's made from the finest quality materials and is designed to meet\n",
            "the needs of businesses of all sizes. We use a unique blend of fibers that makes our paper stronger and more\n",
            "durable than the competition. Plus, our commitment to quality and customer service means that you can always\n",
            "count on us to deliver the best possible product. So if you want paper that will help your business succeed,\n",
            "choose us. We're the best in the business.\n"
          ]
        }
      ]
    },
    {
      "cell_type": "markdown",
      "source": [
        "## Simple Chatbot with Memory"
      ],
      "metadata": {
        "id": "73E_fCTOpJ3w"
      }
    },
    {
      "cell_type": "code",
      "source": [
        "template = \"\"\"The following is a conversation between a human and Dwight K. Schrute from the TV show The Office.\n",
        "Your goal is to outwit the human and show how much smarter Dwight is. No matter the question, Dwight responds as he's talking in The Office.\n",
        "\n",
        "Current conversation:\n",
        "{history}\n",
        "Human: {input}\n",
        "Dwight:\"\"\"\n",
        "\n",
        "PROMPT = PromptTemplate(input_variables=[\"history\", \"input\"], template=template)\n",
        "\n",
        "conversation = ConversationChain(\n",
        "    prompt=PROMPT,\n",
        "    llm=chat_gpt,\n",
        "    verbose=False,\n",
        "    memory=ConversationBufferMemory(ai_prefix=\"Dwight\"),\n",
        ")"
      ],
      "metadata": {
        "id": "WTKjDOfLo1e0"
      },
      "execution_count": null,
      "outputs": []
    },
    {
      "cell_type": "code",
      "source": [
        "while True:\n",
        "    prompt = input(prompt=\"You: \")\n",
        "    print()\n",
        "    result = conversation(prompt)\n",
        "    print_response(\"Dwight: \" + result[\"response\"])\n",
        "    print()"
      ],
      "metadata": {
        "id": "1hm5fOBxqred"
      },
      "execution_count": null,
      "outputs": []
    }
  ]
}